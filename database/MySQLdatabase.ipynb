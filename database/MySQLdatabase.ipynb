{
 "cells": [
  {
   "cell_type": "code",
   "execution_count": 1,
   "metadata": {},
   "outputs": [],
   "source": [
    "import mysql.connector\n",
    "\n",
    "mydb = mysql.connector.connect(\n",
    "  host=\"localhost\",\n",
    "  user=\"root\",\n",
    "  password=\"Henshaw5\",\n",
    "  database=\"test\"\n",
    ")"
   ]
  },
  {
   "cell_type": "code",
   "execution_count": 2,
   "metadata": {},
   "outputs": [
    {
     "name": "stdout",
     "output_type": "stream",
     "text": [
      "('book2',)\n"
     ]
    }
   ],
   "source": [
    "mycursor = mydb.cursor()\n",
    "\n",
    "mycursor.execute(\"SHOW TABLES\")\n",
    "\n",
    "for x in mycursor:\n",
    "  print(x)"
   ]
  },
  {
   "cell_type": "code",
   "execution_count": 3,
   "metadata": {},
   "outputs": [
    {
     "name": "stdout",
     "output_type": "stream",
     "text": [
      "('Abia', 16.4, 31.6)\n",
      "('Adamawa', 24.8, 20.8)\n",
      "('Akwa Ibom', 20.1, 37.7)\n",
      "('Anambra', 17.6, 17.5)\n",
      "('Bauchi', 23.6, 23.5)\n",
      "('Bayelsa', 17.2, 32.6)\n",
      "('Benue', 25.0, 20.1)\n",
      "('Borno', 25.5, 31.4)\n",
      "('Cross River', 19.9, 30.6)\n",
      "('Delta', 17.9, 25.4)\n",
      "('Ebonyi', 19.7, 21.1)\n",
      "('Edo', 18.4, 25.1)\n",
      "('Ekiti', 14.0, 20.2)\n",
      "('Enugu', 17.7, 18.7)\n",
      "('Gombe', 23.7, 27.0)\n",
      "('Imo', 15.1, 28.2)\n",
      "('Jigawa', 26.5, 38.1)\n",
      "('Kaduna', 26.8, 31.0)\n",
      "('Kano', 31.3, 24.3)\n",
      "('Katsina', 14.3, 39.5)\n",
      "('Kebbi', 20.1, 16.9)\n",
      "('Kogi', 24.8, 19.7)\n",
      "('Kwara', 21.4, 21.1)\n",
      "('Lagos', 12.4, 14.6)\n",
      "('Nasarawa', 24.3, 27.4)\n",
      "('Niger', 26.9, 20.9)\n",
      "('Ogun', 10.9, 16.4)\n",
      "('Ondo', 17.5, 14.2)\n",
      "('Osun', 14.6, 10.1)\n",
      "('Oyo', 14.3, 10.3)\n",
      "('Plateau', 21.8, 29.8)\n",
      "('Rivers', 21.7, 36.4)\n",
      "('Sokoto', 26.0, 26.6)\n",
      "('Taraba', 9.0, 19.0)\n",
      "('Yobe', 30.0, 29.0)\n",
      "('Zamfara', 18.0, 23.0)\n",
      "('Fct, Abuja', 16.0, 24.4)\n"
     ]
    }
   ],
   "source": [
    "mycursor = mydb.cursor()\n",
    "mycursor.execute(\"SELECT * FROM book2\")\n",
    "myresult = mycursor.fetchall()\n",
    "for x in myresult:\n",
    "    print(x)"
   ]
  },
  {
   "cell_type": "code",
   "execution_count": 4,
   "metadata": {},
   "outputs": [
    {
     "name": "stdout",
     "output_type": "stream",
     "text": [
      "('Abia', 16.4, 31.6)\n"
     ]
    }
   ],
   "source": [
    "mycursor = mydb.cursor()\n",
    "mycursor.execute(\"SELECT * FROM book2 WHERE ï»¿state='Abia'\")\n",
    "myresult = mycursor.fetchall()\n",
    "for x in myresult:\n",
    "    print(x)"
   ]
  },
  {
   "cell_type": "code",
   "execution_count": 5,
   "metadata": {},
   "outputs": [],
   "source": [
    "mycursor = mydb.cursor()\n",
    "mycursor.execute(\"DELETE FROM book2 WHERE ï»¿state='Imo'\")\n",
    "myresult = mycursor.fetchall()\n",
    "for x in myresult:\n",
    "    print(x)"
   ]
  },
  {
   "cell_type": "code",
   "execution_count": 6,
   "metadata": {},
   "outputs": [],
   "source": [
    "mycursor = mydb.cursor()\n",
    "sql = \"INSERT INTO book2 (ï»¿state,UNDEREMPLOYMENT,UNEMPLOYMENT) VALUES (%s, %s, %s)\"\n",
    "val = (\"Imo\", \"234\", \"345\")\n",
    "mycursor.execute(sql,val)\n",
    "myresult = mycursor.fetchall()\n",
    "for x in myresult:\n",
    "    print(x)"
   ]
  },
  {
   "cell_type": "code",
   "execution_count": 7,
   "metadata": {},
   "outputs": [],
   "source": [
    "import pandas as pd\n",
    "dataset=pd.read_excel(r'C:\\Users\\judyh\\Downloads\\excel files\\Book2.xlsx')\n",
    "df=pd.DataFrame(dataset)"
   ]
  },
  {
   "cell_type": "code",
   "execution_count": 8,
   "metadata": {},
   "outputs": [
    {
     "data": {
      "application/vnd.jupyter.widget-view+json": {
       "model_id": "843e1fd929b643039c2ffa1095e8010a",
       "version_major": 2,
       "version_minor": 0
      },
      "text/plain": [
       "Dropdown(description='State:', options=('Abia', 'Adamawa', 'Akwa Ibom', 'Anambra', 'Bauchi', 'Bayelsa', 'Benue…"
      ]
     },
     "metadata": {},
     "output_type": "display_data"
    }
   ],
   "source": [
    "import ipywidgets as widgets\n",
    "widgets.Dropdown(\n",
    "    options = df['state'],\n",
    "    description = 'State:'\n",
    "    )"
   ]
  },
  {
   "cell_type": "code",
   "execution_count": null,
   "metadata": {},
   "outputs": [],
   "source": []
  }
 ],
 "metadata": {
  "kernelspec": {
   "display_name": "Python 3",
   "language": "python",
   "name": "python3"
  },
  "language_info": {
   "codemirror_mode": {
    "name": "ipython",
    "version": 3
   },
   "file_extension": ".py",
   "mimetype": "text/x-python",
   "name": "python",
   "nbconvert_exporter": "python",
   "pygments_lexer": "ipython3",
   "version": "3.8.5"
  }
 },
 "nbformat": 4,
 "nbformat_minor": 4
}
