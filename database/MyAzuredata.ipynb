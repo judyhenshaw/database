{
 "cells": [
  {
   "cell_type": "code",
   "execution_count": 1,
   "metadata": {},
   "outputs": [],
   "source": [
    "import mysql.connector\n",
    "from mysql.connector import errorcode"
   ]
  },
  {
   "cell_type": "code",
   "execution_count": 2,
   "metadata": {},
   "outputs": [],
   "source": [
    "config = {\n",
    "    'host' : 'statisticsdatabase1.mysql.database.azure.com',\n",
    "    'user' : 'localhost@statisticsdatabase1',\n",
    "    'password': 'Henshaw5',\n",
    "    'database' : 'test'\n",
    "}"
   ]
  },
  {
   "cell_type": "code",
   "execution_count": 4,
   "metadata": {},
   "outputs": [
    {
     "name": "stdout",
     "output_type": "stream",
     "text": [
      "Connection established\n",
      "Read 37 row(s) of data.\n",
      "Data row = (Abia, 16.4, 31.6)\n",
      "Data row = (Adamawa, 24.8, 20.8)\n",
      "Data row = (Akwa Ibom, 20.1, 37.7)\n",
      "Data row = (Anambra, 17.6, 17.5)\n",
      "Data row = (Bauchi, 23.6, 23.5)\n",
      "Data row = (Bayelsa, 17.2, 32.6)\n",
      "Data row = (Benue, 25.0, 20.1)\n",
      "Data row = (Borno, 25.5, 31.4)\n",
      "Data row = (Cross River, 19.9, 30.6)\n",
      "Data row = (Delta, 17.9, 25.4)\n",
      "Data row = (Ebonyi, 19.7, 21.1)\n",
      "Data row = (Edo, 18.4, 25.1)\n",
      "Data row = (Ekiti, 14.0, 20.2)\n",
      "Data row = (Enugu, 17.7, 18.7)\n",
      "Data row = (Gombe, 23.7, 27.0)\n",
      "Data row = (Imo, 15.1, 28.2)\n",
      "Data row = (Jigawa, 26.5, 38.1)\n",
      "Data row = (Kaduna, 26.8, 31.0)\n",
      "Data row = (Kano, 31.3, 24.3)\n",
      "Data row = (Katsina, 14.3, 39.5)\n",
      "Data row = (Kebbi, 20.1, 16.9)\n",
      "Data row = (Kogi, 24.8, 19.7)\n",
      "Data row = (Kwara, 21.4, 21.1)\n",
      "Data row = (Lagos, 12.4, 14.6)\n",
      "Data row = (Nasarawa, 24.3, 27.4)\n",
      "Data row = (Niger, 26.9, 20.9)\n",
      "Data row = (Ogun, 10.9, 16.4)\n",
      "Data row = (Ondo, 17.5, 14.2)\n",
      "Data row = (Osun, 14.6, 10.1)\n",
      "Data row = (Oyo, 14.3, 10.3)\n",
      "Data row = (Plateau, 21.8, 29.8)\n",
      "Data row = (Rivers, 21.7, 36.4)\n",
      "Data row = (Sokoto, 26.0, 26.6)\n",
      "Data row = (Taraba, 9.0, 19.0)\n",
      "Data row = (Yobe, 30.0, 29.0)\n",
      "Data row = (Zamfara, 18.0, 23.0)\n",
      "Data row = (Fct, Abuja, 16.0, 24.4)\n",
      "Done.\n"
     ]
    }
   ],
   "source": [
    "try:\n",
    "   conn = mysql.connector.connect(**config)\n",
    "   print(\"Connection established\")\n",
    "except mysql.connector.Error as err:\n",
    "  if err.errno == errorcode.ER_ACCESS_DENIED_ERROR:\n",
    "    print(\"Something is wrong with the user name or password\")\n",
    "  elif err.errno == errorcode.ER_BAD_DB_ERROR:\n",
    "    print(\"Database does not exist\")\n",
    "  else:\n",
    "    print(err)\n",
    "else:\n",
    "  cursor = conn.cursor()\n",
    "  cursor.execute(\"SELECT * FROM book2\")\n",
    "  rows = cursor.fetchall()\n",
    "  print(\"Read\",cursor.rowcount,\"row(s) of data.\")\n",
    "\n",
    "  # Print all rows\n",
    "  for row in rows:\n",
    "  \tprint(\"Data row = (%s, %s, %s)\" %(str(row[0]), str(row[1]), str(row[2])))\n",
    "\n",
    "  # Cleanup\n",
    "  conn.commit()\n",
    "  cursor.close()\n",
    "  conn.close()\n",
    "  print(\"Done.\")"
   ]
  },
  {
   "cell_type": "code",
   "execution_count": null,
   "metadata": {},
   "outputs": [],
   "source": []
  }
 ],
 "metadata": {
  "kernelspec": {
   "display_name": "Python 3",
   "language": "python",
   "name": "python3"
  },
  "language_info": {
   "codemirror_mode": {
    "name": "ipython",
    "version": 3
   },
   "file_extension": ".py",
   "mimetype": "text/x-python",
   "name": "python",
   "nbconvert_exporter": "python",
   "pygments_lexer": "ipython3",
   "version": "3.8.5"
  }
 },
 "nbformat": 4,
 "nbformat_minor": 4
}
